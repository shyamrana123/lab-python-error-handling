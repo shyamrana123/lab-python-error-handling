{
 "cells": [
  {
   "cell_type": "markdown",
   "id": "25d7736c-ba17-4aff-b6bb-66eba20fbf4e",
   "metadata": {},
   "source": [
    "# Lab | Error Handling"
   ]
  },
  {
   "cell_type": "markdown",
   "id": "bc99b386-7508-47a0-bcdb-d969deaf6c8b",
   "metadata": {},
   "source": [
    "## Exercise: Error Handling for Managing Customer Orders\n",
    "\n",
    "The implementation of your code for managing customer orders assumes that the user will always enter a valid input. \n",
    "\n",
    "For example, we could modify the `initialize_inventory` function to include error handling.\n",
    "   - If the user enters an invalid quantity (e.g., a negative value or a non-numeric value), display an error message and ask them to re-enter the quantity for that product.\n",
    "   - Use a try-except block to handle the error and continue prompting the user until a valid quantity is entered.\n",
    "\n",
    "```python\n",
    "# Step 1: Define the function for initializing the inventory with error handling\n",
    "def initialize_inventory(products):\n",
    "    inventory = {}\n",
    "    for product in products:\n",
    "        valid_quantity = False\n",
    "        while not valid_quantity:\n",
    "            try:\n",
    "                quantity = int(input(f\"Enter the quantity of {product}s available: \"))\n",
    "                if quantity < 0:\n",
    "                    raise ValueError(\"Invalid quantity! Please enter a non-negative value.\")\n",
    "                valid_quantity = True\n",
    "            except ValueError as error:\n",
    "                print(f\"Error: {error}\")\n",
    "        inventory[product] = quantity\n",
    "    return inventory\n",
    "\n",
    "# Or, in another way:\n",
    "\n",
    "def initialize_inventory(products):\n",
    "    inventory = {}\n",
    "    for product in products:\n",
    "        valid_input = False\n",
    "        while not valid_input:\n",
    "            try:\n",
    "                quantity = int(input(f\"Enter the quantity of {product}s available: \"))\n",
    "                if quantity >= 0:\n",
    "                    inventory[product] = quantity\n",
    "                    valid_input = True\n",
    "                else:\n",
    "                    print(\"Quantity cannot be negative. Please enter a valid quantity.\")\n",
    "            except ValueError:\n",
    "                print(\"Invalid input. Please enter a valid quantity.\")\n",
    "    return inventory\n",
    "```\n",
    "\n",
    "Let's enhance your code by implementing error handling to handle invalid inputs.\n",
    "\n",
    "Follow the steps below to complete the exercise:\n",
    "\n",
    "2. Modify the `calculate_total_price` function to include error handling.\n",
    "   - If the user enters an invalid price (e.g., a negative value or a non-numeric value), display an error message and ask them to re-enter the price for that product.\n",
    "   - Use a try-except block to handle the error and continue prompting the user until a valid price is entered.\n",
    "\n",
    "3. Modify the `get_customer_orders` function to include error handling.\n",
    "   - If the user enters an invalid number of orders (e.g., a negative value or a non-numeric value), display an error message and ask them to re-enter the number of orders.\n",
    "   - If the user enters an invalid product name (e.g., a product name that is not in the inventory), or that doesn't have stock available, display an error message and ask them to re-enter the product name. *Hint: you will need to pass inventory as a parameter*\n",
    "   - Use a try-except block to handle the error and continue prompting the user until a valid product name is entered.\n",
    "\n",
    "4. Test your code by running the program and deliberately entering invalid quantities and product names. Make sure the error handling mechanism works as expected.\n"
   ]
  },
  {
   "cell_type": "code",
   "execution_count": 26,
   "id": "a8f12c86-ec98-45f4-a6d8-4b942f1b4860",
   "metadata": {},
   "outputs": [
    {
     "name": "stdin",
     "output_type": "stream",
     "text": [
      "Enter the number of t-shirt:  3\n",
      "Enter the number of mug:  3\n",
      "Enter the number of hat:  3\n",
      "Enter the number of book:  3\n",
      "Enter the number of keychain:  3\n"
     ]
    }
   ],
   "source": [
    "products = [\"t-shirt\", \"mug\", \"hat\", \"book\", \"keychain\"]\n",
    "\n",
    "inventory = {product:int(input(f\"Enter the number of {product}: \")) for product in products}\n",
    "\n",
    "\n"
   ]
  },
  {
   "cell_type": "code",
   "execution_count": 50,
   "id": "780c533d-4e46-481d-9f17-1b64bfca3637",
   "metadata": {},
   "outputs": [],
   "source": [
    "\"\"\"Modify the get_customer_orders function to include error handling.\n",
    "\n",
    "If the user enters an invalid number of orders (e.g., a negative value or a non-numeric value), display an error message and ask them to re-enter \n",
    "the number of orders.\n",
    "\n",
    "If the user enters an invalid product name (e.g., a product name that is not in the inventory), or that doesn't have stock \n",
    "available, display an error message and ask them to re-enter the product name. Hint: you will need to pass inventory as a parameter\n",
    "\n",
    "Use a try-except block to handle the error and continue prompting the user until a valid product name is entered.\"\"\"\n",
    "\n",
    "\n",
    "customers_order=[]\n",
    "def get_customer_orders():\n",
    "    valid_quantity = False\n",
    "    while not valid_quantity:\n",
    "        try:\n",
    "            number_of_product =int(input(\"Enter the number of products you want to enter: \"))\n",
    "            if number_of_product < 0:\n",
    "                raise ValueError(\"Invalid quantity! Please enter a non-negative value.\") \n",
    "            valid_quantity = True\n",
    "        except ValueError as error:\n",
    "            print(f\"Error: {error}\")\n",
    "        \n",
    "    valid_quant = False\n",
    "    while not valid_quant:\n",
    "        try:\n",
    "            for x in range(0,number_of_product):\n",
    "                cust_order = input(\"Enter the name of product you want to order: \")\n",
    "                \n",
    "                if cust_order in products:\n",
    "                    customers_order.append(cust_order)\n",
    "                else:\n",
    "                    raise ValueError(\"Invalid item! Please enter an item from the products\")\n",
    "                valid_quant = True\n",
    "        except ValueError as error:\n",
    "            print(f\"Error: {error}\")\n",
    "            \n",
    "                \n",
    "    return customers_order"
   ]
  },
  {
   "cell_type": "code",
   "execution_count": 54,
   "id": "fd8d47a0-c4dd-48ed-80b2-905c6ba02fe0",
   "metadata": {},
   "outputs": [
    {
     "data": {
      "text/plain": [
       "[]"
      ]
     },
     "execution_count": 54,
     "metadata": {},
     "output_type": "execute_result"
    }
   ],
   "source": [
    "customers_order"
   ]
  },
  {
   "cell_type": "code",
   "execution_count": 56,
   "id": "1032762d-a063-4500-a984-fd75d0a52fbf",
   "metadata": {},
   "outputs": [
    {
     "name": "stdin",
     "output_type": "stream",
     "text": [
      "Enter the number of products you want to enter:  2\n",
      "Enter the name of product you want to order:  mug\n",
      "Enter the name of product you want to order:  book\n"
     ]
    },
    {
     "data": {
      "text/plain": [
       "['mug', 'book']"
      ]
     },
     "execution_count": 56,
     "metadata": {},
     "output_type": "execute_result"
    }
   ],
   "source": [
    "get_customer_orders()\n"
   ]
  },
  {
   "cell_type": "code",
   "execution_count": null,
   "id": "16399f16-9390-4b6e-a95e-5cc3a66f0cdd",
   "metadata": {},
   "outputs": [],
   "source": [
    "#defining order calculation function\n",
    "\n",
    "def calculate_order_statistics(customer_orders, products):\n",
    "    total_products_ordered = len(customer_orders)\n",
    "    product_ordered_percentage = len(customer_orders)/len(products)*100\n",
    "  \n",
    "    return(f\"Order statistics: Number of total products ordered: {total_products_ordered}\", f\"percentage of unique products : {product_ordered_percentage}%\")\n",
    "calculate_order_statistics(customers_order, products)   \n",
    "\n",
    "# defining printing order statistics function\n",
    "\n",
    "def print_order_statistics(calculate_order_statistics):\n",
    "    print(calculate_order_statistics(customers_order,products))\n",
    "    return\n",
    "print_order_statistics(calculate_order_statistics)"
   ]
  },
  {
   "cell_type": "code",
   "execution_count": 58,
   "id": "7c5081f0-dd1e-4d22-8126-dc7971bdf50a",
   "metadata": {},
   "outputs": [],
   "source": [
    "\"\"\"Modify the calculate_total_price function to include error handling.\n",
    "If the user enters an invalid price (e.g., a negative value or a non-numeric value), display an error message and ask them to re-enter the price for that product.\n",
    "Use a try-except block to handle the error and continue prompting the user until a valid price is entered.\"\"\"\n",
    "\n",
    "def calculate_price():\n",
    "    total_price = 0\n",
    "\n",
    "    valid_quantity = False\n",
    "    while not valid_quantity:\n",
    "        try:\n",
    "            price_dict = {}\n",
    "            for element in customers_order:\n",
    "                price_dict[element] = float(input(f\"Enter the price for {element}: \"))  \n",
    "                if price_dict[element] < 0:\n",
    "                    raise ValueError(\"Invalid quantity! Please enter a non-negative value.\")\n",
    "                \n",
    "            valid_quantity = True\n",
    "        except ValueError as error:\n",
    "            print(f\"Error: {error}\") \n",
    "   \n",
    "    for object in price_dict:\n",
    "        total_price = total_price + price_dict[object]\n",
    "        \n",
    "    return (f\"The total price of customer's order is :{total_price}\")"
   ]
  },
  {
   "cell_type": "code",
   "execution_count": 60,
   "id": "6ccd9deb-8d34-44c3-8f62-e543d64f152f",
   "metadata": {},
   "outputs": [
    {
     "name": "stdin",
     "output_type": "stream",
     "text": [
      "Enter the price for mug:  3\n",
      "Enter the price for book:  4\n"
     ]
    },
    {
     "data": {
      "text/plain": [
       "\"The total price of customer's order is :7.0\""
      ]
     },
     "execution_count": 60,
     "metadata": {},
     "output_type": "execute_result"
    }
   ],
   "source": [
    "calculate_price()"
   ]
  },
  {
   "cell_type": "code",
   "execution_count": null,
   "id": "48d581ed-8f6b-47b4-a930-2336e897092f",
   "metadata": {},
   "outputs": [],
   "source": []
  }
 ],
 "metadata": {
  "kernelspec": {
   "display_name": "Python 3 (ipykernel)",
   "language": "python",
   "name": "python3"
  },
  "language_info": {
   "codemirror_mode": {
    "name": "ipython",
    "version": 3
   },
   "file_extension": ".py",
   "mimetype": "text/x-python",
   "name": "python",
   "nbconvert_exporter": "python",
   "pygments_lexer": "ipython3",
   "version": "3.11.7"
  }
 },
 "nbformat": 4,
 "nbformat_minor": 5
}
